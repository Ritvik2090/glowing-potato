{
 "cells": [
  {
   "cell_type": "markdown",
   "id": "ae352d57-a13d-480d-945d-6ba5f1d55e0b",
   "metadata": {
    "tags": []
   },
   "source": [
    "# Data Science Tools and Ecosystem"
   ]
  },
  {
   "cell_type": "markdown",
   "id": "7e278e31-4d2a-425a-a5f6-6df5a287eb0c",
   "metadata": {},
   "source": [
    "In this notebook, Data Science Tools and Ecosystem are summarized."
   ]
  },
  {
   "cell_type": "markdown",
   "id": "3addbd9e-d35f-4c1a-9b60-11d635494cd5",
   "metadata": {},
   "source": [
    "Some of the popular languages that Data Scientists use are:\n",
    "1. Python\n",
    "2. R\n",
    "3. SQL"
   ]
  },
  {
   "cell_type": "markdown",
   "id": "42cd0f6c-d8bd-4600-abc1-5ff007adfc86",
   "metadata": {
    "tags": []
   },
   "source": [
    "Some of the commonly used libraries used by Data Scientists include:\n",
    "1. numpy\n",
    "2. pandas\n",
    "3. matplotlib"
   ]
  },
  {
   "cell_type": "markdown",
   "id": "a9cd45a6-2f9c-4d1f-be76-9d692b76a2b4",
   "metadata": {},
   "source": [
    "| Data Science Tools |\n",
    "|:------------------:|\n",
    "| Spark |\n",
    "| Jupyter |\n",
    "| Hadoop |"
   ]
  },
  {
   "cell_type": "markdown",
   "id": "ba5bbdce-1ef8-4356-b53c-4d55abe350c1",
   "metadata": {},
   "source": [
    "### Below are a few examples of evaluating arithmetic expressions in Python."
   ]
  },
  {
   "cell_type": "code",
   "execution_count": 2,
   "id": "db94e218-ab71-444e-9186-dbf0c67b7771",
   "metadata": {
    "tags": []
   },
   "outputs": [
    {
     "data": {
      "text/plain": [
       "17"
      ]
     },
     "execution_count": 2,
     "metadata": {},
     "output_type": "execute_result"
    }
   ],
   "source": [
    "# This a simple arithmetic expression to mutiply then add integers\n",
    "(3*4)+5"
   ]
  },
  {
   "cell_type": "code",
   "execution_count": 7,
   "id": "af42592b-8b67-4412-803b-30167d3ef989",
   "metadata": {
    "tags": []
   },
   "outputs": [
    {
     "name": "stdout",
     "output_type": "stream",
     "text": [
      "3.3333333333333335\n"
     ]
    }
   ],
   "source": [
    "# This will convert 200 minutes to hours by diving by 60\n",
    "min = 200 \n",
    "hours = min/60\n",
    "print(hours)"
   ]
  },
  {
   "cell_type": "markdown",
   "id": "bd060588-aef8-4861-9b4b-1b7a11a71419",
   "metadata": {},
   "source": [
    "# Objectives:\n",
    "- Languages for DS\n",
    "- Tools for DS\n",
    "- Table\n",
    "- Code"
   ]
  },
  {
   "cell_type": "markdown",
   "id": "0d0d79d2-3a53-4790-87d1-ac725c2b2182",
   "metadata": {},
   "source": [
    "## Author\n",
    "Ritvik Jain"
   ]
  },
  {
   "cell_type": "code",
   "execution_count": null,
   "id": "274c15c9-3db2-450b-b184-550e4ee621e6",
   "metadata": {},
   "outputs": [],
   "source": []
  }
 ],
 "metadata": {
  "kernelspec": {
   "display_name": "Python",
   "language": "python",
   "name": "conda-env-python-py"
  },
  "language_info": {
   "codemirror_mode": {
    "name": "ipython",
    "version": 3
   },
   "file_extension": ".py",
   "mimetype": "text/x-python",
   "name": "python",
   "nbconvert_exporter": "python",
   "pygments_lexer": "ipython3",
   "version": "3.7.12"
  }
 },
 "nbformat": 4,
 "nbformat_minor": 5
}
